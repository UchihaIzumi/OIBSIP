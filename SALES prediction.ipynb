{
 "cells": [
  {
   "cell_type": "markdown",
   "id": "9cec547b",
   "metadata": {
    "papermill": {
     "duration": 0.003456,
     "end_time": "2023-10-14T08:23:30.061329",
     "exception": false,
     "start_time": "2023-10-14T08:23:30.057873",
     "status": "completed"
    },
    "tags": []
   },
   "source": [
    "### Importing libraries"
   ]
  },
  {
   "cell_type": "code",
   "execution_count": 1,
   "id": "2420aade",
   "metadata": {
    "execution": {
     "iopub.execute_input": "2023-10-14T08:23:30.070731Z",
     "iopub.status.busy": "2023-10-14T08:23:30.070084Z",
     "iopub.status.idle": "2023-10-14T08:23:32.120912Z",
     "shell.execute_reply": "2023-10-14T08:23:32.119603Z"
    },
    "papermill": {
     "duration": 2.058699,
     "end_time": "2023-10-14T08:23:32.123692",
     "exception": false,
     "start_time": "2023-10-14T08:23:30.064993",
     "status": "completed"
    },
    "tags": []
   },
   "outputs": [],
   "source": [
    "import numpy as np\n",
    "import pandas as pd\n",
    "import seaborn as sns\n",
    "import matplotlib.pyplot as plt\n",
    "%matplotlib inline\n",
    "from sklearn.model_selection import train_test_split\n",
    "from sklearn.linear_model import LinearRegression\n",
    "from sklearn.ensemble import GradientBoostingRegressor\n",
    "from sklearn.metrics import mean_squared_error, r2_score\n",
    "import warnings\n",
    "warnings.filterwarnings('ignore')"
   ]
  },
  {
   "cell_type": "markdown",
   "id": "5b951622",
   "metadata": {
    "papermill": {
     "duration": 0.003279,
     "end_time": "2023-10-14T08:23:32.130996",
     "exception": false,
     "start_time": "2023-10-14T08:23:32.127717",
     "status": "completed"
    },
    "tags": []
   },
   "source": [
    "### Importing data"
   ]
  },
  {
   "cell_type": "code",
   "execution_count": 2,
   "id": "8cbb8d99",
   "metadata": {
    "execution": {
     "iopub.execute_input": "2023-10-14T08:23:32.139944Z",
     "iopub.status.busy": "2023-10-14T08:23:32.139311Z",
     "iopub.status.idle": "2023-10-14T08:23:32.161633Z",
     "shell.execute_reply": "2023-10-14T08:23:32.160413Z"
    },
    "papermill": {
     "duration": 0.030114,
     "end_time": "2023-10-14T08:23:32.164525",
     "exception": false,
     "start_time": "2023-10-14T08:23:32.134411",
     "status": "completed"
    },
    "tags": []
   },
   "outputs": [
    {
     "data": {
      "text/html": [
       "<div>\n",
       "<style scoped>\n",
       "    .dataframe tbody tr th:only-of-type {\n",
       "        vertical-align: middle;\n",
       "    }\n",
       "\n",
       "    .dataframe tbody tr th {\n",
       "        vertical-align: top;\n",
       "    }\n",
       "\n",
       "    .dataframe thead th {\n",
       "        text-align: right;\n",
       "    }\n",
       "</style>\n",
       "<table border=\"1\" class=\"dataframe\">\n",
       "  <thead>\n",
       "    <tr style=\"text-align: right;\">\n",
       "      <th></th>\n",
       "      <th>Unnamed: 0</th>\n",
       "      <th>TV</th>\n",
       "      <th>Radio</th>\n",
       "      <th>Newspaper</th>\n",
       "      <th>Sales</th>\n",
       "    </tr>\n",
       "  </thead>\n",
       "  <tbody>\n",
       "    <tr>\n",
       "      <th>0</th>\n",
       "      <td>1</td>\n",
       "      <td>230.1</td>\n",
       "      <td>37.8</td>\n",
       "      <td>69.2</td>\n",
       "      <td>22.1</td>\n",
       "    </tr>\n",
       "    <tr>\n",
       "      <th>1</th>\n",
       "      <td>2</td>\n",
       "      <td>44.5</td>\n",
       "      <td>39.3</td>\n",
       "      <td>45.1</td>\n",
       "      <td>10.4</td>\n",
       "    </tr>\n",
       "    <tr>\n",
       "      <th>2</th>\n",
       "      <td>3</td>\n",
       "      <td>17.2</td>\n",
       "      <td>45.9</td>\n",
       "      <td>69.3</td>\n",
       "      <td>9.3</td>\n",
       "    </tr>\n",
       "    <tr>\n",
       "      <th>3</th>\n",
       "      <td>4</td>\n",
       "      <td>151.5</td>\n",
       "      <td>41.3</td>\n",
       "      <td>58.5</td>\n",
       "      <td>18.5</td>\n",
       "    </tr>\n",
       "    <tr>\n",
       "      <th>4</th>\n",
       "      <td>5</td>\n",
       "      <td>180.8</td>\n",
       "      <td>10.8</td>\n",
       "      <td>58.4</td>\n",
       "      <td>12.9</td>\n",
       "    </tr>\n",
       "    <tr>\n",
       "      <th>...</th>\n",
       "      <td>...</td>\n",
       "      <td>...</td>\n",
       "      <td>...</td>\n",
       "      <td>...</td>\n",
       "      <td>...</td>\n",
       "    </tr>\n",
       "    <tr>\n",
       "      <th>195</th>\n",
       "      <td>196</td>\n",
       "      <td>38.2</td>\n",
       "      <td>3.7</td>\n",
       "      <td>13.8</td>\n",
       "      <td>7.6</td>\n",
       "    </tr>\n",
       "    <tr>\n",
       "      <th>196</th>\n",
       "      <td>197</td>\n",
       "      <td>94.2</td>\n",
       "      <td>4.9</td>\n",
       "      <td>8.1</td>\n",
       "      <td>9.7</td>\n",
       "    </tr>\n",
       "    <tr>\n",
       "      <th>197</th>\n",
       "      <td>198</td>\n",
       "      <td>177.0</td>\n",
       "      <td>9.3</td>\n",
       "      <td>6.4</td>\n",
       "      <td>12.8</td>\n",
       "    </tr>\n",
       "    <tr>\n",
       "      <th>198</th>\n",
       "      <td>199</td>\n",
       "      <td>283.6</td>\n",
       "      <td>42.0</td>\n",
       "      <td>66.2</td>\n",
       "      <td>25.5</td>\n",
       "    </tr>\n",
       "    <tr>\n",
       "      <th>199</th>\n",
       "      <td>200</td>\n",
       "      <td>232.1</td>\n",
       "      <td>8.6</td>\n",
       "      <td>8.7</td>\n",
       "      <td>13.4</td>\n",
       "    </tr>\n",
       "  </tbody>\n",
       "</table>\n",
       "<p>200 rows × 5 columns</p>\n",
       "</div>"
      ],
      "text/plain": [
       "     Unnamed: 0     TV  Radio  Newspaper  Sales\n",
       "0             1  230.1   37.8       69.2   22.1\n",
       "1             2   44.5   39.3       45.1   10.4\n",
       "2             3   17.2   45.9       69.3    9.3\n",
       "3             4  151.5   41.3       58.5   18.5\n",
       "4             5  180.8   10.8       58.4   12.9\n",
       "..          ...    ...    ...        ...    ...\n",
       "195         196   38.2    3.7       13.8    7.6\n",
       "196         197   94.2    4.9        8.1    9.7\n",
       "197         198  177.0    9.3        6.4   12.8\n",
       "198         199  283.6   42.0       66.2   25.5\n",
       "199         200  232.1    8.6        8.7   13.4\n",
       "\n",
       "[200 rows x 5 columns]"
      ]
     },
     "execution_count": 2,
     "metadata": {},
     "output_type": "execute_result"
    }
   ],
   "source": [
    "df = pd.read_csv('Advertising.csv')\n",
    "df"
   ]
  },
  {
   "cell_type": "code",
   "execution_count": 3,
   "id": "c4f11a36",
   "metadata": {
    "execution": {
     "iopub.execute_input": "2023-10-14T08:23:32.228312Z",
     "iopub.status.busy": "2023-10-14T08:23:32.227905Z",
     "iopub.status.idle": "2023-10-14T08:23:32.256940Z",
     "shell.execute_reply": "2023-10-14T08:23:32.255555Z"
    },
    "papermill": {
     "duration": 0.036946,
     "end_time": "2023-10-14T08:23:32.259408",
     "exception": false,
     "start_time": "2023-10-14T08:23:32.222462",
     "status": "completed"
    },
    "tags": []
   },
   "outputs": [
    {
     "name": "stdout",
     "output_type": "stream",
     "text": [
      "<class 'pandas.core.frame.DataFrame'>\n",
      "RangeIndex: 200 entries, 0 to 199\n",
      "Data columns (total 5 columns):\n",
      " #   Column      Non-Null Count  Dtype  \n",
      "---  ------      --------------  -----  \n",
      " 0   Unnamed: 0  200 non-null    int64  \n",
      " 1   TV          200 non-null    float64\n",
      " 2   Radio       200 non-null    float64\n",
      " 3   Newspaper   200 non-null    float64\n",
      " 4   Sales       200 non-null    float64\n",
      "dtypes: float64(4), int64(1)\n",
      "memory usage: 7.9 KB\n"
     ]
    }
   ],
   "source": [
    "df.info()"
   ]
  },
  {
   "cell_type": "code",
   "execution_count": 4,
   "id": "dfbe5e81",
   "metadata": {
    "execution": {
     "iopub.execute_input": "2023-10-14T08:23:32.268924Z",
     "iopub.status.busy": "2023-10-14T08:23:32.268553Z",
     "iopub.status.idle": "2023-10-14T08:23:32.296743Z",
     "shell.execute_reply": "2023-10-14T08:23:32.295642Z"
    },
    "papermill": {
     "duration": 0.035381,
     "end_time": "2023-10-14T08:23:32.298822",
     "exception": false,
     "start_time": "2023-10-14T08:23:32.263441",
     "status": "completed"
    },
    "tags": []
   },
   "outputs": [
    {
     "data": {
      "text/html": [
       "<div>\n",
       "<style scoped>\n",
       "    .dataframe tbody tr th:only-of-type {\n",
       "        vertical-align: middle;\n",
       "    }\n",
       "\n",
       "    .dataframe tbody tr th {\n",
       "        vertical-align: top;\n",
       "    }\n",
       "\n",
       "    .dataframe thead th {\n",
       "        text-align: right;\n",
       "    }\n",
       "</style>\n",
       "<table border=\"1\" class=\"dataframe\">\n",
       "  <thead>\n",
       "    <tr style=\"text-align: right;\">\n",
       "      <th></th>\n",
       "      <th>Unnamed: 0</th>\n",
       "      <th>TV</th>\n",
       "      <th>Radio</th>\n",
       "      <th>Newspaper</th>\n",
       "      <th>Sales</th>\n",
       "    </tr>\n",
       "  </thead>\n",
       "  <tbody>\n",
       "    <tr>\n",
       "      <th>count</th>\n",
       "      <td>200.000000</td>\n",
       "      <td>200.000000</td>\n",
       "      <td>200.000000</td>\n",
       "      <td>200.000000</td>\n",
       "      <td>200.000000</td>\n",
       "    </tr>\n",
       "    <tr>\n",
       "      <th>mean</th>\n",
       "      <td>100.500000</td>\n",
       "      <td>147.042500</td>\n",
       "      <td>23.264000</td>\n",
       "      <td>30.554000</td>\n",
       "      <td>14.022500</td>\n",
       "    </tr>\n",
       "    <tr>\n",
       "      <th>std</th>\n",
       "      <td>57.879185</td>\n",
       "      <td>85.854236</td>\n",
       "      <td>14.846809</td>\n",
       "      <td>21.778621</td>\n",
       "      <td>5.217457</td>\n",
       "    </tr>\n",
       "    <tr>\n",
       "      <th>min</th>\n",
       "      <td>1.000000</td>\n",
       "      <td>0.700000</td>\n",
       "      <td>0.000000</td>\n",
       "      <td>0.300000</td>\n",
       "      <td>1.600000</td>\n",
       "    </tr>\n",
       "    <tr>\n",
       "      <th>25%</th>\n",
       "      <td>50.750000</td>\n",
       "      <td>74.375000</td>\n",
       "      <td>9.975000</td>\n",
       "      <td>12.750000</td>\n",
       "      <td>10.375000</td>\n",
       "    </tr>\n",
       "    <tr>\n",
       "      <th>50%</th>\n",
       "      <td>100.500000</td>\n",
       "      <td>149.750000</td>\n",
       "      <td>22.900000</td>\n",
       "      <td>25.750000</td>\n",
       "      <td>12.900000</td>\n",
       "    </tr>\n",
       "    <tr>\n",
       "      <th>75%</th>\n",
       "      <td>150.250000</td>\n",
       "      <td>218.825000</td>\n",
       "      <td>36.525000</td>\n",
       "      <td>45.100000</td>\n",
       "      <td>17.400000</td>\n",
       "    </tr>\n",
       "    <tr>\n",
       "      <th>max</th>\n",
       "      <td>200.000000</td>\n",
       "      <td>296.400000</td>\n",
       "      <td>49.600000</td>\n",
       "      <td>114.000000</td>\n",
       "      <td>27.000000</td>\n",
       "    </tr>\n",
       "  </tbody>\n",
       "</table>\n",
       "</div>"
      ],
      "text/plain": [
       "       Unnamed: 0          TV       Radio   Newspaper       Sales\n",
       "count  200.000000  200.000000  200.000000  200.000000  200.000000\n",
       "mean   100.500000  147.042500   23.264000   30.554000   14.022500\n",
       "std     57.879185   85.854236   14.846809   21.778621    5.217457\n",
       "min      1.000000    0.700000    0.000000    0.300000    1.600000\n",
       "25%     50.750000   74.375000    9.975000   12.750000   10.375000\n",
       "50%    100.500000  149.750000   22.900000   25.750000   12.900000\n",
       "75%    150.250000  218.825000   36.525000   45.100000   17.400000\n",
       "max    200.000000  296.400000   49.600000  114.000000   27.000000"
      ]
     },
     "execution_count": 4,
     "metadata": {},
     "output_type": "execute_result"
    }
   ],
   "source": [
    "df.describe()"
   ]
  },
  {
   "cell_type": "code",
   "execution_count": 5,
   "id": "d80d07b3",
   "metadata": {
    "execution": {
     "iopub.execute_input": "2023-10-14T08:23:32.308969Z",
     "iopub.status.busy": "2023-10-14T08:23:32.308561Z",
     "iopub.status.idle": "2023-10-14T08:23:32.319073Z",
     "shell.execute_reply": "2023-10-14T08:23:32.317893Z"
    },
    "papermill": {
     "duration": 0.018203,
     "end_time": "2023-10-14T08:23:32.321222",
     "exception": false,
     "start_time": "2023-10-14T08:23:32.303019",
     "status": "completed"
    },
    "tags": []
   },
   "outputs": [
    {
     "data": {
      "text/plain": [
       "0"
      ]
     },
     "execution_count": 5,
     "metadata": {},
     "output_type": "execute_result"
    }
   ],
   "source": [
    "df.duplicated().sum()"
   ]
  },
  {
   "cell_type": "markdown",
   "id": "8426cee4",
   "metadata": {
    "papermill": {
     "duration": 0.003886,
     "end_time": "2023-10-14T08:23:32.329402",
     "exception": false,
     "start_time": "2023-10-14T08:23:32.325516",
     "status": "completed"
    },
    "tags": []
   },
   "source": [
    "### Data visualization"
   ]
  },
  {
   "cell_type": "code",
   "execution_count": 6,
   "id": "7790e64f",
   "metadata": {
    "execution": {
     "iopub.execute_input": "2023-10-14T08:23:38.044902Z",
     "iopub.status.busy": "2023-10-14T08:23:38.043467Z",
     "iopub.status.idle": "2023-10-14T08:23:38.927520Z",
     "shell.execute_reply": "2023-10-14T08:23:38.926062Z"
    },
    "papermill": {
     "duration": 0.897744,
     "end_time": "2023-10-14T08:23:38.930059",
     "exception": false,
     "start_time": "2023-10-14T08:23:38.032315",
     "status": "completed"
    },
    "tags": []
   },
   "outputs": [
    {
     "data": {
      "text/plain": [
       "<seaborn.axisgrid.PairGrid at 0x2bca3411d00>"
      ]
     },
     "execution_count": 6,
     "metadata": {},
     "output_type": "execute_result"
    },
    {
     "data": {
      "image/png": "[encoded data removed]",
      "text/plain": [
       "<Figure size 750x250 with 3 Axes>"
      ]
     },
     "metadata": {},
     "output_type": "display_data"
    }
   ],
   "source": [
    "sns.pairplot(df,x_vars=['TV', 'Radio', 'Newspaper'], y_vars='Sales' , kind='reg')"
   ]
  },
  {
   "cell_type": "markdown",
   "id": "1b5c5536",
   "metadata": {
    "papermill": {
     "duration": 0.011759,
     "end_time": "2023-10-14T08:23:39.316445",
     "exception": false,
     "start_time": "2023-10-14T08:23:39.304686",
     "status": "completed"
    },
    "tags": []
   },
   "source": [
    "### Modelling"
   ]
  },
  {
   "cell_type": "code",
   "execution_count": 7,
   "id": "1159863c",
   "metadata": {
    "execution": {
     "iopub.execute_input": "2023-10-14T08:23:39.341175Z",
     "iopub.status.busy": "2023-10-14T08:23:39.340455Z",
     "iopub.status.idle": "2023-10-14T08:23:39.595925Z",
     "shell.execute_reply": "2023-10-14T08:23:39.594588Z"
    },
    "papermill": {
     "duration": 0.270459,
     "end_time": "2023-10-14T08:23:39.598225",
     "exception": false,
     "start_time": "2023-10-14T08:23:39.327766",
     "status": "completed"
    },
    "tags": []
   },
   "outputs": [],
   "source": [
    "#Linear regression\n",
    "\n",
    "x = df.drop(columns='Sales')\n",
    "y = df['Sales']\n",
    "\n",
    "x_train, x_test, y_train, y_test = train_test_split(x, y, test_size=0.3, random_state = 25)"
   ]
  },
  {
   "cell_type": "code",
   "execution_count": 8,
   "id": "f472936f",
   "metadata": {
    "execution": {
     "iopub.execute_input": "2023-10-14T08:23:39.643097Z",
     "iopub.status.busy": "2023-10-14T08:23:39.642775Z",
     "iopub.status.idle": "2023-10-14T08:23:39.786381Z",
     "shell.execute_reply": "2023-10-14T08:23:39.785201Z"
    },
    "papermill": {
     "duration": 0.15797,
     "end_time": "2023-10-14T08:23:39.788870",
     "exception": false,
     "start_time": "2023-10-14T08:23:39.630900",
     "status": "completed"
    },
    "tags": []
   },
   "outputs": [
    {
     "name": "stdout",
     "output_type": "stream",
     "text": [
      "Mean Squared Error: 2.753021266749734\n",
      "R-squared: 0.8926200930417253\n",
      "Model's accuracy:  89.26200930417252\n"
     ]
    }
   ],
   "source": [
    "logr = LinearRegression()\n",
    "logr.fit(x_train, y_train)\n",
    "\n",
    "y_pred_lr = logr.predict(x_test)\n",
    "\n",
    "mse_lr = mean_squared_error(y_test, y_pred_lr)\n",
    "r2_lr = r2_score(y_test, y_pred_lr)\n",
    "print(f'Mean Squared Error: {mse_lr}')\n",
    "print(f'R-squared: {r2_lr}')\n",
    "\n",
    "\n",
    "print('''Model's accuracy: ''',(logr.score(x_test, y_test)) * 100)"
   ]
  },
  {
   "cell_type": "code",
   "execution_count": 9,
   "id": "19d5c586",
   "metadata": {},
   "outputs": [],
   "source": [
    "#GradientBoostingRegressor\n",
    "\n",
    "model_gb = GradientBoostingRegressor(random_state=42)\n",
    "model_gb.fit(x_train, y_train)\n",
    "\n",
    "y_pred_gb = model_gb.predict(x_test)"
   ]
  },
  {
   "cell_type": "code",
   "execution_count": 10,
   "id": "06f3264a",
   "metadata": {},
   "outputs": [
    {
     "name": "stdout",
     "output_type": "stream",
     "text": [
      "Mean Squared Error: 0.55930109581236\n",
      "R-squared: 0.9781848035991028\n",
      "Model's accuracy:  97.81848035991028\n"
     ]
    }
   ],
   "source": [
    "mse_gb = mean_squared_error(y_test, y_pred_gb)\n",
    "r2_gb = r2_score(y_test, y_pred_gb)\n",
    "print(f'Mean Squared Error: {mse_gb}')\n",
    "print(f'R-squared: {r2_gb}')\n",
    "print('''Model's accuracy: ''',(model_gb.score(x_test, y_test)) * 100)"
   ]
  },
  {
   "cell_type": "markdown",
   "id": "6ddd4f1d",
   "metadata": {},
   "source": [
    "In this task Linear Regression and Gradient Booster Regressor is used to predict the sales. it can be seen that both Linear Regression and Gradient Booster Regressor gives good accuracy indicating that they both are good fit, but Gradient Booster Regressor gives much better accuracy than Linear Regression."
   ]
  }
 ],
 "metadata": {
  "kernelspec": {
   "display_name": "Python 3 (ipykernel)",
   "language": "python",
   "name": "python3"
  },
  "language_info": {
   "codemirror_mode": {
    "name": "ipython",
    "version": 3
   },
   "file_extension": ".py",
   "mimetype": "text/x-python",
   "name": "python",
   "nbconvert_exporter": "python",
   "pygments_lexer": "ipython3",
   "version": "3.9.13"
  },
  "papermill": {
   "default_parameters": {},
   "duration": 14.248476,
   "end_time": "2023-10-14T08:23:40.824098",
   "environment_variables": {},
   "exception": null,
   "input_path": "__notebook__.ipynb",
   "output_path": "__notebook__.ipynb",
   "parameters": {},
   "start_time": "2023-10-14T08:23:26.575622",
   "version": "2.4.0"
  }
 },
 "nbformat": 4,
 "nbformat_minor": 5
}
