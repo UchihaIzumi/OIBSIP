{
 "cells": [
  {
   "cell_type": "markdown",
   "id": "7ce5d3d8",
   "metadata": {
    "id": "7R3H_RBDqAtA",
    "papermill": {
     "duration": 0.012636,
     "end_time": "2023-08-01T16:21:47.576137",
     "exception": false,
     "start_time": "2023-08-01T16:21:47.563501",
     "status": "completed"
    },
    "tags": []
   },
   "source": [
    "### Importing Libraries"
   ]
  },
  {
   "cell_type": "code",
   "execution_count": 1,
   "id": "30590318",
   "metadata": {
    "execution": {
     "iopub.execute_input": "2023-08-01T16:21:47.603908Z",
     "iopub.status.busy": "2023-08-01T16:21:47.603507Z",
     "iopub.status.idle": "2023-08-01T16:21:50.354653Z",
     "shell.execute_reply": "2023-08-01T16:21:50.353348Z"
    },
    "id": "Lldc9YjVSlso",
    "papermill": {
     "duration": 2.768808,
     "end_time": "2023-08-01T16:21:50.358064",
     "exception": false,
     "start_time": "2023-08-01T16:21:47.589256",
     "status": "completed"
    },
    "tags": []
   },
   "outputs": [],
   "source": [
    "import pandas as pd\n",
    "import numpy as np\n",
    "from sklearn.model_selection import train_test_split\n",
    "from sklearn.feature_extraction.text import TfidfVectorizer\n",
    "from sklearn.linear_model import LogisticRegression\n",
    "from sklearn.metrics import accuracy_score, confusion_matrix, roc_curve, roc_auc_score, precision_score, recall_score, f1_score, classification_report\n",
    "import nltk\n",
    "from nltk.corpus import stopwords\n",
    "from collections import Counter\n",
    "import matplotlib.pyplot as plt\n",
    "import seaborn as sns"
   ]
  },
  {
   "cell_type": "code",
   "execution_count": 2,
   "id": "824e58fd",
   "metadata": {
    "execution": {
     "iopub.execute_input": "2023-08-01T16:21:50.388104Z",
     "iopub.status.busy": "2023-08-01T16:21:50.387704Z",
     "iopub.status.idle": "2023-08-01T16:21:50.468682Z",
     "shell.execute_reply": "2023-08-01T16:21:50.467515Z"
    },
    "id": "BsPNYov7msic",
    "outputId": "e90d2bf4-9781-4c93-a360-00b604492fd8",
    "papermill": {
     "duration": 0.098119,
     "end_time": "2023-08-01T16:21:50.471148",
     "exception": false,
     "start_time": "2023-08-01T16:21:50.373029",
     "status": "completed"
    },
    "scrolled": true,
    "tags": []
   },
   "outputs": [
    {
     "name": "stderr",
     "output_type": "stream",
     "text": [
      "[nltk_data] Downloading package stopwords to\n",
      "[nltk_data]     C:\\Users\\SM18\\AppData\\Roaming\\nltk_data...\n",
      "[nltk_data]   Package stopwords is already up-to-date!\n"
     ]
    },
    {
     "data": {
      "text/plain": [
       "True"
      ]
     },
     "execution_count": 2,
     "metadata": {},
     "output_type": "execute_result"
    }
   ],
   "source": [
    "nltk.download('stopwords')"
   ]
  },
  {
   "cell_type": "markdown",
   "id": "3ae092ad",
   "metadata": {},
   "source": [
    "### Fetching Data"
   ]
  },
  {
   "cell_type": "code",
   "execution_count": 3,
   "id": "8aa64197",
   "metadata": {
    "execution": {
     "iopub.execute_input": "2023-08-01T16:21:50.500687Z",
     "iopub.status.busy": "2023-08-01T16:21:50.499761Z",
     "iopub.status.idle": "2023-08-01T16:21:50.570328Z",
     "shell.execute_reply": "2023-08-01T16:21:50.569256Z"
    },
    "id": "Pyrih9F_nHce",
    "outputId": "a701835d-a4df-4dea-d173-307bc91c1764",
    "papermill": {
     "duration": 0.087541,
     "end_time": "2023-08-01T16:21:50.572684",
     "exception": false,
     "start_time": "2023-08-01T16:21:50.485143",
     "status": "completed"
    },
    "tags": []
   },
   "outputs": [
    {
     "data": {
      "text/html": [
       "<div>\n",
       "<style scoped>\n",
       "    .dataframe tbody tr th:only-of-type {\n",
       "        vertical-align: middle;\n",
       "    }\n",
       "\n",
       "    .dataframe tbody tr th {\n",
       "        vertical-align: top;\n",
       "    }\n",
       "\n",
       "    .dataframe thead th {\n",
       "        text-align: right;\n",
       "    }\n",
       "</style>\n",
       "<table border=\"1\" class=\"dataframe\">\n",
       "  <thead>\n",
       "    <tr style=\"text-align: right;\">\n",
       "      <th></th>\n",
       "      <th>v1</th>\n",
       "      <th>v2</th>\n",
       "      <th>Unnamed: 2</th>\n",
       "      <th>Unnamed: 3</th>\n",
       "      <th>Unnamed: 4</th>\n",
       "    </tr>\n",
       "  </thead>\n",
       "  <tbody>\n",
       "    <tr>\n",
       "      <th>0</th>\n",
       "      <td>ham</td>\n",
       "      <td>Go until jurong point, crazy.. Available only ...</td>\n",
       "      <td>NaN</td>\n",
       "      <td>NaN</td>\n",
       "      <td>NaN</td>\n",
       "    </tr>\n",
       "    <tr>\n",
       "      <th>1</th>\n",
       "      <td>ham</td>\n",
       "      <td>Ok lar... Joking wif u oni...</td>\n",
       "      <td>NaN</td>\n",
       "      <td>NaN</td>\n",
       "      <td>NaN</td>\n",
       "    </tr>\n",
       "    <tr>\n",
       "      <th>2</th>\n",
       "      <td>spam</td>\n",
       "      <td>Free entry in 2 a wkly comp to win FA Cup fina...</td>\n",
       "      <td>NaN</td>\n",
       "      <td>NaN</td>\n",
       "      <td>NaN</td>\n",
       "    </tr>\n",
       "    <tr>\n",
       "      <th>3</th>\n",
       "      <td>ham</td>\n",
       "      <td>U dun say so early hor... U c already then say...</td>\n",
       "      <td>NaN</td>\n",
       "      <td>NaN</td>\n",
       "      <td>NaN</td>\n",
       "    </tr>\n",
       "    <tr>\n",
       "      <th>4</th>\n",
       "      <td>ham</td>\n",
       "      <td>Nah I don't think he goes to usf, he lives aro...</td>\n",
       "      <td>NaN</td>\n",
       "      <td>NaN</td>\n",
       "      <td>NaN</td>\n",
       "    </tr>\n",
       "    <tr>\n",
       "      <th>...</th>\n",
       "      <td>...</td>\n",
       "      <td>...</td>\n",
       "      <td>...</td>\n",
       "      <td>...</td>\n",
       "      <td>...</td>\n",
       "    </tr>\n",
       "    <tr>\n",
       "      <th>5567</th>\n",
       "      <td>spam</td>\n",
       "      <td>This is the 2nd time we have tried 2 contact u...</td>\n",
       "      <td>NaN</td>\n",
       "      <td>NaN</td>\n",
       "      <td>NaN</td>\n",
       "    </tr>\n",
       "    <tr>\n",
       "      <th>5568</th>\n",
       "      <td>ham</td>\n",
       "      <td>Will Ì_ b going to esplanade fr home?</td>\n",
       "      <td>NaN</td>\n",
       "      <td>NaN</td>\n",
       "      <td>NaN</td>\n",
       "    </tr>\n",
       "    <tr>\n",
       "      <th>5569</th>\n",
       "      <td>ham</td>\n",
       "      <td>Pity, * was in mood for that. So...any other s...</td>\n",
       "      <td>NaN</td>\n",
       "      <td>NaN</td>\n",
       "      <td>NaN</td>\n",
       "    </tr>\n",
       "    <tr>\n",
       "      <th>5570</th>\n",
       "      <td>ham</td>\n",
       "      <td>The guy did some bitching but I acted like i'd...</td>\n",
       "      <td>NaN</td>\n",
       "      <td>NaN</td>\n",
       "      <td>NaN</td>\n",
       "    </tr>\n",
       "    <tr>\n",
       "      <th>5571</th>\n",
       "      <td>ham</td>\n",
       "      <td>Rofl. Its true to its name</td>\n",
       "      <td>NaN</td>\n",
       "      <td>NaN</td>\n",
       "      <td>NaN</td>\n",
       "    </tr>\n",
       "  </tbody>\n",
       "</table>\n",
       "<p>5572 rows × 5 columns</p>\n",
       "</div>"
      ],
      "text/plain": [
       "        v1                                                 v2 Unnamed: 2  \\\n",
       "0      ham  Go until jurong point, crazy.. Available only ...        NaN   \n",
       "1      ham                      Ok lar... Joking wif u oni...        NaN   \n",
       "2     spam  Free entry in 2 a wkly comp to win FA Cup fina...        NaN   \n",
       "3      ham  U dun say so early hor... U c already then say...        NaN   \n",
       "4      ham  Nah I don't think he goes to usf, he lives aro...        NaN   \n",
       "...    ...                                                ...        ...   \n",
       "5567  spam  This is the 2nd time we have tried 2 contact u...        NaN   \n",
       "5568   ham              Will Ì_ b going to esplanade fr home?        NaN   \n",
       "5569   ham  Pity, * was in mood for that. So...any other s...        NaN   \n",
       "5570   ham  The guy did some bitching but I acted like i'd...        NaN   \n",
       "5571   ham                         Rofl. Its true to its name        NaN   \n",
       "\n",
       "     Unnamed: 3 Unnamed: 4  \n",
       "0           NaN        NaN  \n",
       "1           NaN        NaN  \n",
       "2           NaN        NaN  \n",
       "3           NaN        NaN  \n",
       "4           NaN        NaN  \n",
       "...         ...        ...  \n",
       "5567        NaN        NaN  \n",
       "5568        NaN        NaN  \n",
       "5569        NaN        NaN  \n",
       "5570        NaN        NaN  \n",
       "5571        NaN        NaN  \n",
       "\n",
       "[5572 rows x 5 columns]"
      ]
     },
     "execution_count": 3,
     "metadata": {},
     "output_type": "execute_result"
    }
   ],
   "source": [
    "df = pd.read_csv(\"spam.csv\",encoding='latin-1')\n",
    "df"
   ]
  },
  {
   "cell_type": "code",
   "execution_count": 4,
   "id": "09eab303",
   "metadata": {
    "execution": {
     "iopub.execute_input": "2023-08-01T16:21:50.602397Z",
     "iopub.status.busy": "2023-08-01T16:21:50.601565Z",
     "iopub.status.idle": "2023-08-01T16:21:50.640941Z",
     "shell.execute_reply": "2023-08-01T16:21:50.639560Z"
    },
    "id": "nkIt515XxioU",
    "outputId": "dddf0df7-2e03-4179-c1ac-8d74e3ba7a71",
    "papermill": {
     "duration": 0.057215,
     "end_time": "2023-08-01T16:21:50.643509",
     "exception": false,
     "start_time": "2023-08-01T16:21:50.586294",
     "status": "completed"
    },
    "tags": []
   },
   "outputs": [
    {
     "name": "stdout",
     "output_type": "stream",
     "text": [
      "<class 'pandas.core.frame.DataFrame'>\n",
      "RangeIndex: 5572 entries, 0 to 5571\n",
      "Data columns (total 5 columns):\n",
      " #   Column      Non-Null Count  Dtype \n",
      "---  ------      --------------  ----- \n",
      " 0   v1          5572 non-null   object\n",
      " 1   v2          5572 non-null   object\n",
      " 2   Unnamed: 2  50 non-null     object\n",
      " 3   Unnamed: 3  12 non-null     object\n",
      " 4   Unnamed: 4  6 non-null      object\n",
      "dtypes: object(5)\n",
      "memory usage: 217.8+ KB\n"
     ]
    }
   ],
   "source": [
    "df.info()"
   ]
  },
  {
   "cell_type": "markdown",
   "id": "55ddb9a9",
   "metadata": {},
   "source": [
    "### Data Processing"
   ]
  },
  {
   "cell_type": "code",
   "execution_count": 5,
   "id": "4e7a20f0",
   "metadata": {
    "execution": {
     "iopub.execute_input": "2023-08-01T16:21:50.673532Z",
     "iopub.status.busy": "2023-08-01T16:21:50.672706Z",
     "iopub.status.idle": "2023-08-01T16:21:50.678528Z",
     "shell.execute_reply": "2023-08-01T16:21:50.677788Z"
    },
    "id": "wQdcWCFRVu34",
    "papermill": {
     "duration": 0.023094,
     "end_time": "2023-08-01T16:21:50.680755",
     "exception": false,
     "start_time": "2023-08-01T16:21:50.657661",
     "status": "completed"
    },
    "tags": []
   },
   "outputs": [
    {
     "data": {
      "text/html": [
       "<div>\n",
       "<style scoped>\n",
       "    .dataframe tbody tr th:only-of-type {\n",
       "        vertical-align: middle;\n",
       "    }\n",
       "\n",
       "    .dataframe tbody tr th {\n",
       "        vertical-align: top;\n",
       "    }\n",
       "\n",
       "    .dataframe thead th {\n",
       "        text-align: right;\n",
       "    }\n",
       "</style>\n",
       "<table border=\"1\" class=\"dataframe\">\n",
       "  <thead>\n",
       "    <tr style=\"text-align: right;\">\n",
       "      <th></th>\n",
       "      <th>v1</th>\n",
       "      <th>v2</th>\n",
       "    </tr>\n",
       "  </thead>\n",
       "  <tbody>\n",
       "    <tr>\n",
       "      <th>0</th>\n",
       "      <td>ham</td>\n",
       "      <td>Go until jurong point, crazy.. Available only ...</td>\n",
       "    </tr>\n",
       "    <tr>\n",
       "      <th>1</th>\n",
       "      <td>ham</td>\n",
       "      <td>Ok lar... Joking wif u oni...</td>\n",
       "    </tr>\n",
       "    <tr>\n",
       "      <th>2</th>\n",
       "      <td>spam</td>\n",
       "      <td>Free entry in 2 a wkly comp to win FA Cup fina...</td>\n",
       "    </tr>\n",
       "    <tr>\n",
       "      <th>3</th>\n",
       "      <td>ham</td>\n",
       "      <td>U dun say so early hor... U c already then say...</td>\n",
       "    </tr>\n",
       "    <tr>\n",
       "      <th>4</th>\n",
       "      <td>ham</td>\n",
       "      <td>Nah I don't think he goes to usf, he lives aro...</td>\n",
       "    </tr>\n",
       "    <tr>\n",
       "      <th>...</th>\n",
       "      <td>...</td>\n",
       "      <td>...</td>\n",
       "    </tr>\n",
       "    <tr>\n",
       "      <th>5567</th>\n",
       "      <td>spam</td>\n",
       "      <td>This is the 2nd time we have tried 2 contact u...</td>\n",
       "    </tr>\n",
       "    <tr>\n",
       "      <th>5568</th>\n",
       "      <td>ham</td>\n",
       "      <td>Will Ì_ b going to esplanade fr home?</td>\n",
       "    </tr>\n",
       "    <tr>\n",
       "      <th>5569</th>\n",
       "      <td>ham</td>\n",
       "      <td>Pity, * was in mood for that. So...any other s...</td>\n",
       "    </tr>\n",
       "    <tr>\n",
       "      <th>5570</th>\n",
       "      <td>ham</td>\n",
       "      <td>The guy did some bitching but I acted like i'd...</td>\n",
       "    </tr>\n",
       "    <tr>\n",
       "      <th>5571</th>\n",
       "      <td>ham</td>\n",
       "      <td>Rofl. Its true to its name</td>\n",
       "    </tr>\n",
       "  </tbody>\n",
       "</table>\n",
       "<p>5572 rows × 2 columns</p>\n",
       "</div>"
      ],
      "text/plain": [
       "        v1                                                 v2\n",
       "0      ham  Go until jurong point, crazy.. Available only ...\n",
       "1      ham                      Ok lar... Joking wif u oni...\n",
       "2     spam  Free entry in 2 a wkly comp to win FA Cup fina...\n",
       "3      ham  U dun say so early hor... U c already then say...\n",
       "4      ham  Nah I don't think he goes to usf, he lives aro...\n",
       "...    ...                                                ...\n",
       "5567  spam  This is the 2nd time we have tried 2 contact u...\n",
       "5568   ham              Will Ì_ b going to esplanade fr home?\n",
       "5569   ham  Pity, * was in mood for that. So...any other s...\n",
       "5570   ham  The guy did some bitching but I acted like i'd...\n",
       "5571   ham                         Rofl. Its true to its name\n",
       "\n",
       "[5572 rows x 2 columns]"
      ]
     },
     "execution_count": 5,
     "metadata": {},
     "output_type": "execute_result"
    }
   ],
   "source": [
    "columns_to_drop = [\"Unnamed: 2\", \"Unnamed: 3\", \"Unnamed: 4\"]\n",
    "df.drop(columns=columns_to_drop, inplace=True)\n",
    "df"
   ]
  },
  {
   "cell_type": "code",
   "execution_count": 6,
   "id": "c5a6e152",
   "metadata": {
    "execution": {
     "iopub.execute_input": "2023-08-01T16:21:50.754510Z",
     "iopub.status.busy": "2023-08-01T16:21:50.753829Z",
     "iopub.status.idle": "2023-08-01T16:21:50.759255Z",
     "shell.execute_reply": "2023-08-01T16:21:50.758446Z"
    },
    "id": "7qjOehxKWZ9g",
    "papermill": {
     "duration": 0.023238,
     "end_time": "2023-08-01T16:21:50.761438",
     "exception": false,
     "start_time": "2023-08-01T16:21:50.738200",
     "status": "completed"
    },
    "tags": []
   },
   "outputs": [
    {
     "data": {
      "text/html": [
       "<div>\n",
       "<style scoped>\n",
       "    .dataframe tbody tr th:only-of-type {\n",
       "        vertical-align: middle;\n",
       "    }\n",
       "\n",
       "    .dataframe tbody tr th {\n",
       "        vertical-align: top;\n",
       "    }\n",
       "\n",
       "    .dataframe thead th {\n",
       "        text-align: right;\n",
       "    }\n",
       "</style>\n",
       "<table border=\"1\" class=\"dataframe\">\n",
       "  <thead>\n",
       "    <tr style=\"text-align: right;\">\n",
       "      <th></th>\n",
       "      <th>Category</th>\n",
       "      <th>Message</th>\n",
       "    </tr>\n",
       "  </thead>\n",
       "  <tbody>\n",
       "    <tr>\n",
       "      <th>0</th>\n",
       "      <td>ham</td>\n",
       "      <td>Go until jurong point, crazy.. Available only ...</td>\n",
       "    </tr>\n",
       "    <tr>\n",
       "      <th>1</th>\n",
       "      <td>ham</td>\n",
       "      <td>Ok lar... Joking wif u oni...</td>\n",
       "    </tr>\n",
       "    <tr>\n",
       "      <th>2</th>\n",
       "      <td>spam</td>\n",
       "      <td>Free entry in 2 a wkly comp to win FA Cup fina...</td>\n",
       "    </tr>\n",
       "    <tr>\n",
       "      <th>3</th>\n",
       "      <td>ham</td>\n",
       "      <td>U dun say so early hor... U c already then say...</td>\n",
       "    </tr>\n",
       "    <tr>\n",
       "      <th>4</th>\n",
       "      <td>ham</td>\n",
       "      <td>Nah I don't think he goes to usf, he lives aro...</td>\n",
       "    </tr>\n",
       "    <tr>\n",
       "      <th>...</th>\n",
       "      <td>...</td>\n",
       "      <td>...</td>\n",
       "    </tr>\n",
       "    <tr>\n",
       "      <th>5567</th>\n",
       "      <td>spam</td>\n",
       "      <td>This is the 2nd time we have tried 2 contact u...</td>\n",
       "    </tr>\n",
       "    <tr>\n",
       "      <th>5568</th>\n",
       "      <td>ham</td>\n",
       "      <td>Will Ì_ b going to esplanade fr home?</td>\n",
       "    </tr>\n",
       "    <tr>\n",
       "      <th>5569</th>\n",
       "      <td>ham</td>\n",
       "      <td>Pity, * was in mood for that. So...any other s...</td>\n",
       "    </tr>\n",
       "    <tr>\n",
       "      <th>5570</th>\n",
       "      <td>ham</td>\n",
       "      <td>The guy did some bitching but I acted like i'd...</td>\n",
       "    </tr>\n",
       "    <tr>\n",
       "      <th>5571</th>\n",
       "      <td>ham</td>\n",
       "      <td>Rofl. Its true to its name</td>\n",
       "    </tr>\n",
       "  </tbody>\n",
       "</table>\n",
       "<p>5572 rows × 2 columns</p>\n",
       "</div>"
      ],
      "text/plain": [
       "     Category                                            Message\n",
       "0         ham  Go until jurong point, crazy.. Available only ...\n",
       "1         ham                      Ok lar... Joking wif u oni...\n",
       "2        spam  Free entry in 2 a wkly comp to win FA Cup fina...\n",
       "3         ham  U dun say so early hor... U c already then say...\n",
       "4         ham  Nah I don't think he goes to usf, he lives aro...\n",
       "...       ...                                                ...\n",
       "5567     spam  This is the 2nd time we have tried 2 contact u...\n",
       "5568      ham              Will Ì_ b going to esplanade fr home?\n",
       "5569      ham  Pity, * was in mood for that. So...any other s...\n",
       "5570      ham  The guy did some bitching but I acted like i'd...\n",
       "5571      ham                         Rofl. Its true to its name\n",
       "\n",
       "[5572 rows x 2 columns]"
      ]
     },
     "execution_count": 6,
     "metadata": {},
     "output_type": "execute_result"
    }
   ],
   "source": [
    "new_column_names = {\"v1\":\"Category\",\"v2\":\"Message\"}\n",
    "df.rename(columns = new_column_names,inplace = True)\n",
    "df"
   ]
  },
  {
   "cell_type": "code",
   "execution_count": 7,
   "id": "bf802567",
   "metadata": {
    "execution": {
     "iopub.execute_input": "2023-08-01T16:21:50.834766Z",
     "iopub.status.busy": "2023-08-01T16:21:50.834033Z",
     "iopub.status.idle": "2023-08-01T16:21:50.843249Z",
     "shell.execute_reply": "2023-08-01T16:21:50.842453Z"
    },
    "id": "cXzMa-w0iitv",
    "papermill": {
     "duration": 0.027483,
     "end_time": "2023-08-01T16:21:50.845632",
     "exception": false,
     "start_time": "2023-08-01T16:21:50.818149",
     "status": "completed"
    },
    "tags": []
   },
   "outputs": [
    {
     "data": {
      "text/html": [
       "<div>\n",
       "<style scoped>\n",
       "    .dataframe tbody tr th:only-of-type {\n",
       "        vertical-align: middle;\n",
       "    }\n",
       "\n",
       "    .dataframe tbody tr th {\n",
       "        vertical-align: top;\n",
       "    }\n",
       "\n",
       "    .dataframe thead th {\n",
       "        text-align: right;\n",
       "    }\n",
       "</style>\n",
       "<table border=\"1\" class=\"dataframe\">\n",
       "  <thead>\n",
       "    <tr style=\"text-align: right;\">\n",
       "      <th></th>\n",
       "      <th>Category</th>\n",
       "      <th>Message</th>\n",
       "    </tr>\n",
       "  </thead>\n",
       "  <tbody>\n",
       "    <tr>\n",
       "      <th>0</th>\n",
       "      <td>ham</td>\n",
       "      <td>Go until jurong point, crazy.. Available only ...</td>\n",
       "    </tr>\n",
       "    <tr>\n",
       "      <th>1</th>\n",
       "      <td>ham</td>\n",
       "      <td>Ok lar... Joking wif u oni...</td>\n",
       "    </tr>\n",
       "    <tr>\n",
       "      <th>2</th>\n",
       "      <td>spam</td>\n",
       "      <td>Free entry in 2 a wkly comp to win FA Cup fina...</td>\n",
       "    </tr>\n",
       "    <tr>\n",
       "      <th>3</th>\n",
       "      <td>ham</td>\n",
       "      <td>U dun say so early hor... U c already then say...</td>\n",
       "    </tr>\n",
       "    <tr>\n",
       "      <th>4</th>\n",
       "      <td>ham</td>\n",
       "      <td>Nah I don't think he goes to usf, he lives aro...</td>\n",
       "    </tr>\n",
       "    <tr>\n",
       "      <th>...</th>\n",
       "      <td>...</td>\n",
       "      <td>...</td>\n",
       "    </tr>\n",
       "    <tr>\n",
       "      <th>5567</th>\n",
       "      <td>spam</td>\n",
       "      <td>This is the 2nd time we have tried 2 contact u...</td>\n",
       "    </tr>\n",
       "    <tr>\n",
       "      <th>5568</th>\n",
       "      <td>ham</td>\n",
       "      <td>Will Ì_ b going to esplanade fr home?</td>\n",
       "    </tr>\n",
       "    <tr>\n",
       "      <th>5569</th>\n",
       "      <td>ham</td>\n",
       "      <td>Pity, * was in mood for that. So...any other s...</td>\n",
       "    </tr>\n",
       "    <tr>\n",
       "      <th>5570</th>\n",
       "      <td>ham</td>\n",
       "      <td>The guy did some bitching but I acted like i'd...</td>\n",
       "    </tr>\n",
       "    <tr>\n",
       "      <th>5571</th>\n",
       "      <td>ham</td>\n",
       "      <td>Rofl. Its true to its name</td>\n",
       "    </tr>\n",
       "  </tbody>\n",
       "</table>\n",
       "<p>5572 rows × 2 columns</p>\n",
       "</div>"
      ],
      "text/plain": [
       "     Category                                            Message\n",
       "0         ham  Go until jurong point, crazy.. Available only ...\n",
       "1         ham                      Ok lar... Joking wif u oni...\n",
       "2        spam  Free entry in 2 a wkly comp to win FA Cup fina...\n",
       "3         ham  U dun say so early hor... U c already then say...\n",
       "4         ham  Nah I don't think he goes to usf, he lives aro...\n",
       "...       ...                                                ...\n",
       "5567     spam  This is the 2nd time we have tried 2 contact u...\n",
       "5568      ham              Will Ì_ b going to esplanade fr home?\n",
       "5569      ham  Pity, * was in mood for that. So...any other s...\n",
       "5570      ham  The guy did some bitching but I acted like i'd...\n",
       "5571      ham                         Rofl. Its true to its name\n",
       "\n",
       "[5572 rows x 2 columns]"
      ]
     },
     "execution_count": 7,
     "metadata": {},
     "output_type": "execute_result"
    }
   ],
   "source": [
    "df2 = df.where((pd.notnull(df)), ' ')\n",
    "df2"
   ]
  },
  {
   "cell_type": "code",
   "execution_count": 8,
   "id": "b0bef467",
   "metadata": {
    "execution": {
     "iopub.execute_input": "2023-08-01T16:21:50.921407Z",
     "iopub.status.busy": "2023-08-01T16:21:50.920990Z",
     "iopub.status.idle": "2023-08-01T16:21:50.942787Z",
     "shell.execute_reply": "2023-08-01T16:21:50.941710Z"
    },
    "id": "kf3gVoyBnPkl",
    "outputId": "b85eafa3-6fb6-4226-8821-df4cf48ba21a",
    "papermill": {
     "duration": 0.040268,
     "end_time": "2023-08-01T16:21:50.945349",
     "exception": false,
     "start_time": "2023-08-01T16:21:50.905081",
     "status": "completed"
    },
    "tags": []
   },
   "outputs": [
    {
     "data": {
      "text/html": [
       "<div>\n",
       "<style scoped>\n",
       "    .dataframe tbody tr th:only-of-type {\n",
       "        vertical-align: middle;\n",
       "    }\n",
       "\n",
       "    .dataframe tbody tr th {\n",
       "        vertical-align: top;\n",
       "    }\n",
       "\n",
       "    .dataframe thead th {\n",
       "        text-align: right;\n",
       "    }\n",
       "</style>\n",
       "<table border=\"1\" class=\"dataframe\">\n",
       "  <thead>\n",
       "    <tr style=\"text-align: right;\">\n",
       "      <th></th>\n",
       "      <th>Category</th>\n",
       "      <th>Message</th>\n",
       "    </tr>\n",
       "  </thead>\n",
       "  <tbody>\n",
       "    <tr>\n",
       "      <th>count</th>\n",
       "      <td>5572</td>\n",
       "      <td>5572</td>\n",
       "    </tr>\n",
       "    <tr>\n",
       "      <th>unique</th>\n",
       "      <td>2</td>\n",
       "      <td>5169</td>\n",
       "    </tr>\n",
       "    <tr>\n",
       "      <th>top</th>\n",
       "      <td>ham</td>\n",
       "      <td>Sorry, I'll call later</td>\n",
       "    </tr>\n",
       "    <tr>\n",
       "      <th>freq</th>\n",
       "      <td>4825</td>\n",
       "      <td>30</td>\n",
       "    </tr>\n",
       "  </tbody>\n",
       "</table>\n",
       "</div>"
      ],
      "text/plain": [
       "       Category                 Message\n",
       "count      5572                    5572\n",
       "unique        2                    5169\n",
       "top         ham  Sorry, I'll call later\n",
       "freq       4825                      30"
      ]
     },
     "execution_count": 8,
     "metadata": {},
     "output_type": "execute_result"
    }
   ],
   "source": [
    "df2.describe()"
   ]
  },
  {
   "cell_type": "code",
   "execution_count": 9,
   "id": "05f0031a",
   "metadata": {
    "execution": {
     "iopub.execute_input": "2023-08-01T16:21:50.977462Z",
     "iopub.status.busy": "2023-08-01T16:21:50.976581Z",
     "iopub.status.idle": "2023-08-01T16:21:50.992192Z",
     "shell.execute_reply": "2023-08-01T16:21:50.990875Z"
    },
    "id": "3-Qdy8MYiygS",
    "outputId": "3c6f996c-2fc6-48e3-f309-44a472608e8f",
    "papermill": {
     "duration": 0.034426,
     "end_time": "2023-08-01T16:21:50.994762",
     "exception": false,
     "start_time": "2023-08-01T16:21:50.960336",
     "status": "completed"
    },
    "tags": []
   },
   "outputs": [
    {
     "name": "stdout",
     "output_type": "stream",
     "text": [
      "<class 'pandas.core.frame.DataFrame'>\n",
      "RangeIndex: 5572 entries, 0 to 5571\n",
      "Data columns (total 2 columns):\n",
      " #   Column    Non-Null Count  Dtype \n",
      "---  ------    --------------  ----- \n",
      " 0   Category  5572 non-null   object\n",
      " 1   Message   5572 non-null   object\n",
      "dtypes: object(2)\n",
      "memory usage: 87.2+ KB\n"
     ]
    }
   ],
   "source": [
    "df2.info()"
   ]
  },
  {
   "cell_type": "code",
   "execution_count": 10,
   "id": "77f3b349",
   "metadata": {
    "execution": {
     "iopub.execute_input": "2023-08-01T16:21:51.026365Z",
     "iopub.status.busy": "2023-08-01T16:21:51.025975Z",
     "iopub.status.idle": "2023-08-01T16:21:51.033025Z",
     "shell.execute_reply": "2023-08-01T16:21:51.032050Z"
    },
    "id": "mzSiReJJi_yH",
    "outputId": "060bb87d-f810-4eb4-a806-023958cb57b1",
    "papermill": {
     "duration": 0.025658,
     "end_time": "2023-08-01T16:21:51.035477",
     "exception": false,
     "start_time": "2023-08-01T16:21:51.009819",
     "status": "completed"
    },
    "tags": []
   },
   "outputs": [
    {
     "data": {
      "text/plain": [
       "(5572, 2)"
      ]
     },
     "execution_count": 10,
     "metadata": {},
     "output_type": "execute_result"
    }
   ],
   "source": [
    "df2.shape"
   ]
  },
  {
   "cell_type": "markdown",
   "id": "66dd00de",
   "metadata": {},
   "source": [
    "### Data Splitting"
   ]
  },
  {
   "cell_type": "code",
   "execution_count": 11,
   "id": "3bdcaa86",
   "metadata": {
    "execution": {
     "iopub.execute_input": "2023-08-01T16:21:51.068014Z",
     "iopub.status.busy": "2023-08-01T16:21:51.067623Z",
     "iopub.status.idle": "2023-08-01T16:21:51.076618Z",
     "shell.execute_reply": "2023-08-01T16:21:51.075757Z"
    },
    "id": "QmhqflqknlcY",
    "papermill": {
     "duration": 0.027806,
     "end_time": "2023-08-01T16:21:51.078733",
     "exception": false,
     "start_time": "2023-08-01T16:21:51.050927",
     "status": "completed"
    },
    "tags": []
   },
   "outputs": [],
   "source": [
    "df2.loc[df2[\"Category\"] == \"spam\", \"Category\"] = 0\n",
    "df2.loc[df2[\"Category\"] == \"ham\", \"Category\"] = 1"
   ]
  },
  {
   "cell_type": "code",
   "execution_count": 12,
   "id": "b9028a3b",
   "metadata": {
    "execution": {
     "iopub.execute_input": "2023-08-01T16:21:51.111403Z",
     "iopub.status.busy": "2023-08-01T16:21:51.110391Z",
     "iopub.status.idle": "2023-08-01T16:21:51.115104Z",
     "shell.execute_reply": "2023-08-01T16:21:51.114367Z"
    },
    "id": "GiMyNf5SkBOz",
    "papermill": {
     "duration": 0.023293,
     "end_time": "2023-08-01T16:21:51.117223",
     "exception": false,
     "start_time": "2023-08-01T16:21:51.093930",
     "status": "completed"
    },
    "tags": []
   },
   "outputs": [],
   "source": [
    "X = df2[\"Message\"]\n",
    "Y = df2[\"Category\"]"
   ]
  },
  {
   "cell_type": "code",
   "execution_count": 13,
   "id": "349ce367",
   "metadata": {
    "execution": {
     "iopub.execute_input": "2023-08-01T16:21:51.149450Z",
     "iopub.status.busy": "2023-08-01T16:21:51.148788Z",
     "iopub.status.idle": "2023-08-01T16:21:51.155821Z",
     "shell.execute_reply": "2023-08-01T16:21:51.154503Z"
    },
    "id": "wACJQUudkvuA",
    "outputId": "26b157b9-4beb-4c1e-8bdc-f8e49f665822",
    "papermill": {
     "duration": 0.025924,
     "end_time": "2023-08-01T16:21:51.158250",
     "exception": false,
     "start_time": "2023-08-01T16:21:51.132326",
     "status": "completed"
    },
    "tags": []
   },
   "outputs": [
    {
     "name": "stdout",
     "output_type": "stream",
     "text": [
      "0       Go until jurong point, crazy.. Available only ...\n",
      "1                           Ok lar... Joking wif u oni...\n",
      "2       Free entry in 2 a wkly comp to win FA Cup fina...\n",
      "3       U dun say so early hor... U c already then say...\n",
      "4       Nah I don't think he goes to usf, he lives aro...\n",
      "                              ...                        \n",
      "5567    This is the 2nd time we have tried 2 contact u...\n",
      "5568                Will Ì_ b going to esplanade fr home?\n",
      "5569    Pity, * was in mood for that. So...any other s...\n",
      "5570    The guy did some bitching but I acted like i'd...\n",
      "5571                           Rofl. Its true to its name\n",
      "Name: Message, Length: 5572, dtype: object\n"
     ]
    }
   ],
   "source": [
    "print(X)"
   ]
  },
  {
   "cell_type": "code",
   "execution_count": 14,
   "id": "ac07b7bb",
   "metadata": {
    "execution": {
     "iopub.execute_input": "2023-08-01T16:21:51.190533Z",
     "iopub.status.busy": "2023-08-01T16:21:51.190123Z",
     "iopub.status.idle": "2023-08-01T16:21:51.197069Z",
     "shell.execute_reply": "2023-08-01T16:21:51.195671Z"
    },
    "id": "EXfJfktTkzjZ",
    "outputId": "24325a8e-8dd5-4105-f715-0604c16a4a31",
    "papermill": {
     "duration": 0.026461,
     "end_time": "2023-08-01T16:21:51.199918",
     "exception": false,
     "start_time": "2023-08-01T16:21:51.173457",
     "status": "completed"
    },
    "tags": []
   },
   "outputs": [
    {
     "name": "stdout",
     "output_type": "stream",
     "text": [
      "0       1\n",
      "1       1\n",
      "2       0\n",
      "3       1\n",
      "4       1\n",
      "       ..\n",
      "5567    0\n",
      "5568    1\n",
      "5569    1\n",
      "5570    1\n",
      "5571    1\n",
      "Name: Category, Length: 5572, dtype: object\n"
     ]
    }
   ],
   "source": [
    "print(Y)"
   ]
  },
  {
   "cell_type": "code",
   "execution_count": 15,
   "id": "9f6ea959",
   "metadata": {
    "execution": {
     "iopub.execute_input": "2023-08-01T16:21:51.233335Z",
     "iopub.status.busy": "2023-08-01T16:21:51.232954Z",
     "iopub.status.idle": "2023-08-01T16:21:51.241314Z",
     "shell.execute_reply": "2023-08-01T16:21:51.240362Z"
    },
    "id": "xDcwlj_bk3Ej",
    "papermill": {
     "duration": 0.027635,
     "end_time": "2023-08-01T16:21:51.243717",
     "exception": false,
     "start_time": "2023-08-01T16:21:51.216082",
     "status": "completed"
    },
    "tags": []
   },
   "outputs": [],
   "source": [
    "X_train, X_test, Y_train, Y_test = train_test_split(X, Y, test_size = 0.2, random_state = 3)"
   ]
  },
  {
   "cell_type": "code",
   "execution_count": 16,
   "id": "6b151c1e",
   "metadata": {
    "execution": {
     "iopub.execute_input": "2023-08-01T16:21:51.276143Z",
     "iopub.status.busy": "2023-08-01T16:21:51.275764Z",
     "iopub.status.idle": "2023-08-01T16:21:51.281277Z",
     "shell.execute_reply": "2023-08-01T16:21:51.280220Z"
    },
    "id": "SPqEutjhmFZw",
    "outputId": "70c8e0d1-b672-4593-e7bf-b36f498dd59c",
    "papermill": {
     "duration": 0.025048,
     "end_time": "2023-08-01T16:21:51.283944",
     "exception": false,
     "start_time": "2023-08-01T16:21:51.258896",
     "status": "completed"
    },
    "tags": []
   },
   "outputs": [
    {
     "name": "stdout",
     "output_type": "stream",
     "text": [
      "(5572,)\n",
      "(4457,)\n",
      "(1115,)\n"
     ]
    }
   ],
   "source": [
    "print(X.shape)\n",
    "print(X_train.shape)\n",
    "print(X_test.shape)"
   ]
  },
  {
   "cell_type": "code",
   "execution_count": 17,
   "id": "d7df8a8d",
   "metadata": {
    "execution": {
     "iopub.execute_input": "2023-08-01T16:21:51.317209Z",
     "iopub.status.busy": "2023-08-01T16:21:51.316696Z",
     "iopub.status.idle": "2023-08-01T16:21:51.322466Z",
     "shell.execute_reply": "2023-08-01T16:21:51.321340Z"
    },
    "id": "gxYRGQlrnBfL",
    "outputId": "9696b6a8-572d-481c-c8a5-a01978edbdcd",
    "papermill": {
     "duration": 0.025786,
     "end_time": "2023-08-01T16:21:51.325236",
     "exception": false,
     "start_time": "2023-08-01T16:21:51.299450",
     "status": "completed"
    },
    "tags": []
   },
   "outputs": [
    {
     "name": "stdout",
     "output_type": "stream",
     "text": [
      "(5572,)\n",
      "(4457,)\n",
      "(1115,)\n"
     ]
    }
   ],
   "source": [
    "print(Y.shape)\n",
    "print(Y_train.shape)\n",
    "print(Y_test.shape)"
   ]
  },
  {
   "cell_type": "code",
   "execution_count": 18,
   "id": "a43511e5",
   "metadata": {
    "execution": {
     "iopub.execute_input": "2023-08-01T16:21:51.358317Z",
     "iopub.status.busy": "2023-08-01T16:21:51.357922Z",
     "iopub.status.idle": "2023-08-01T16:21:51.362949Z",
     "shell.execute_reply": "2023-08-01T16:21:51.361728Z"
    },
    "id": "Un77KQM3nODr",
    "papermill": {
     "duration": 0.024654,
     "end_time": "2023-08-01T16:21:51.365523",
     "exception": false,
     "start_time": "2023-08-01T16:21:51.340869",
     "status": "completed"
    },
    "tags": []
   },
   "outputs": [],
   "source": [
    "feature_extraction = TfidfVectorizer(min_df=1, stop_words=\"english\", lowercase=True)"
   ]
  },
  {
   "cell_type": "code",
   "execution_count": 19,
   "id": "e0e1638f",
   "metadata": {
    "execution": {
     "iopub.execute_input": "2023-08-01T16:21:51.400887Z",
     "iopub.status.busy": "2023-08-01T16:21:51.400461Z",
     "iopub.status.idle": "2023-08-01T16:21:51.571933Z",
     "shell.execute_reply": "2023-08-01T16:21:51.570767Z"
    },
    "id": "_C82pC8zoNp-",
    "papermill": {
     "duration": 0.192756,
     "end_time": "2023-08-01T16:21:51.574813",
     "exception": false,
     "start_time": "2023-08-01T16:21:51.382057",
     "status": "completed"
    },
    "tags": []
   },
   "outputs": [],
   "source": [
    "X_train_features = feature_extraction.fit_transform(X_train)\n",
    "X_test_features = feature_extraction.transform(X_test)"
   ]
  },
  {
   "cell_type": "code",
   "execution_count": 20,
   "id": "5c3d0bf1",
   "metadata": {
    "execution": {
     "iopub.execute_input": "2023-08-01T16:21:51.608008Z",
     "iopub.status.busy": "2023-08-01T16:21:51.607612Z",
     "iopub.status.idle": "2023-08-01T16:21:51.614076Z",
     "shell.execute_reply": "2023-08-01T16:21:51.612642Z"
    },
    "id": "Nk3kKPaWoVFr",
    "papermill": {
     "duration": 0.025854,
     "end_time": "2023-08-01T16:21:51.616437",
     "exception": false,
     "start_time": "2023-08-01T16:21:51.590583",
     "status": "completed"
    },
    "tags": []
   },
   "outputs": [],
   "source": [
    "Y_train = Y_train.astype(\"int\")\n",
    "Y_test = Y_test.astype(\"int\")"
   ]
  },
  {
   "cell_type": "code",
   "execution_count": 21,
   "id": "d1d4d234",
   "metadata": {
    "execution": {
     "iopub.execute_input": "2023-08-01T16:21:51.649861Z",
     "iopub.status.busy": "2023-08-01T16:21:51.649389Z",
     "iopub.status.idle": "2023-08-01T16:21:51.657218Z",
     "shell.execute_reply": "2023-08-01T16:21:51.656004Z"
    },
    "id": "2Tx9WerGpYEs",
    "outputId": "bfa3f495-16c9-42a4-fb1f-c13302f4981f",
    "papermill": {
     "duration": 0.027813,
     "end_time": "2023-08-01T16:21:51.659911",
     "exception": false,
     "start_time": "2023-08-01T16:21:51.632098",
     "status": "completed"
    },
    "tags": []
   },
   "outputs": [
    {
     "name": "stdout",
     "output_type": "stream",
     "text": [
      "3075    Mum, hope you are having a great day. Hoping t...\n",
      "1787                           Yes:)sura in sun tv.:)lol.\n",
      "1614    Me sef dey laugh you. Meanwhile how's my darli...\n",
      "4304                Yo come over carlos will be here soon\n",
      "3266                    Ok then i come n pick u at engin?\n",
      "                              ...                        \n",
      "789                          Gud mrng dear hav a nice day\n",
      "968             Are you willing to go for aptitude class.\n",
      "1667    So now my dad is gonna call after he gets out ...\n",
      "3321    Ok darlin i supose it was ok i just worry too ...\n",
      "1688                     Nan sonathaya soladha. Why boss?\n",
      "Name: Message, Length: 4457, dtype: object\n"
     ]
    }
   ],
   "source": [
    "print(X_train)"
   ]
  },
  {
   "cell_type": "code",
   "execution_count": 22,
   "id": "cbe5f2a4",
   "metadata": {
    "execution": {
     "iopub.execute_input": "2023-08-01T16:21:51.693723Z",
     "iopub.status.busy": "2023-08-01T16:21:51.693289Z",
     "iopub.status.idle": "2023-08-01T16:21:51.700799Z",
     "shell.execute_reply": "2023-08-01T16:21:51.699174Z"
    },
    "id": "OWuakUo-p0Si",
    "outputId": "95838cd3-9bb2-4d16-d47c-6672c54986c7",
    "papermill": {
     "duration": 0.026828,
     "end_time": "2023-08-01T16:21:51.703171",
     "exception": false,
     "start_time": "2023-08-01T16:21:51.676343",
     "status": "completed"
    },
    "tags": []
   },
   "outputs": [
    {
     "name": "stdout",
     "output_type": "stream",
     "text": [
      "  (0, 741)\t0.3219352588930141\n",
      "  (0, 3979)\t0.2410582143632299\n",
      "  (0, 4296)\t0.3891385935794867\n",
      "  (0, 6599)\t0.20296878731699391\n",
      "  (0, 3386)\t0.3219352588930141\n",
      "  (0, 2122)\t0.38613577623520473\n",
      "  (0, 3136)\t0.440116181574609\n",
      "  (0, 3262)\t0.25877035357606315\n",
      "  (0, 3380)\t0.21807195185332803\n",
      "  (0, 4513)\t0.2909649098524696\n",
      "  (1, 4061)\t0.380431198316959\n",
      "  (1, 6872)\t0.4306015894277422\n",
      "  (1, 6417)\t0.4769136859540388\n",
      "  (1, 6442)\t0.5652509076654626\n",
      "  (1, 7443)\t0.35056971070320353\n",
      "  (2, 933)\t0.4917598465723273\n",
      "  (2, 2109)\t0.42972812260098503\n",
      "  (2, 3917)\t0.40088501350982736\n",
      "  (2, 2226)\t0.413484525934624\n",
      "  (2, 5825)\t0.4917598465723273\n",
      "  (3, 6140)\t0.4903863168693604\n",
      "  (3, 1599)\t0.5927091854194291\n",
      "  (3, 1842)\t0.3708680641487708\n",
      "  (3, 7453)\t0.5202633571003087\n",
      "  (4, 2531)\t0.7419319091456392\n",
      "  :\t:\n",
      "  (4452, 2122)\t0.31002103760284144\n",
      "  (4453, 999)\t0.6760129013031282\n",
      "  (4453, 7273)\t0.5787739591782677\n",
      "  (4453, 1762)\t0.45610005640082985\n",
      "  (4454, 3029)\t0.42618909997886\n",
      "  (4454, 2086)\t0.3809693742808703\n",
      "  (4454, 3088)\t0.34475593009514444\n",
      "  (4454, 2001)\t0.4166919007849217\n",
      "  (4454, 1049)\t0.31932060116006045\n",
      "  (4454, 7346)\t0.31166263834107377\n",
      "  (4454, 5370)\t0.42618909997886\n",
      "  (4455, 1148)\t0.38998123077430413\n",
      "  (4455, 6433)\t0.38998123077430413\n",
      "  (4455, 6361)\t0.25697343671652706\n",
      "  (4455, 2764)\t0.3226323745940581\n",
      "  (4455, 7358)\t0.2915949626395065\n",
      "  (4455, 7407)\t0.3028481995557642\n",
      "  (4455, 2108)\t0.3136468384526087\n",
      "  (4455, 4251)\t0.30616657078392584\n",
      "  (4455, 3763)\t0.16807158405536876\n",
      "  (4455, 4773)\t0.35860460546223444\n",
      "  (4456, 6117)\t0.5304350313291551\n",
      "  (4456, 6133)\t0.5304350313291551\n",
      "  (4456, 1386)\t0.4460036316446079\n",
      "  (4456, 4557)\t0.48821933148688146\n"
     ]
    }
   ],
   "source": [
    "print(X_train_features)"
   ]
  },
  {
   "cell_type": "markdown",
   "id": "17a329f8",
   "metadata": {},
   "source": [
    "### Modelling"
   ]
  },
  {
   "cell_type": "code",
   "execution_count": 23,
   "id": "734a2963",
   "metadata": {
    "execution": {
     "iopub.execute_input": "2023-08-01T16:21:51.736917Z",
     "iopub.status.busy": "2023-08-01T16:21:51.736479Z",
     "iopub.status.idle": "2023-08-01T16:21:51.838805Z",
     "shell.execute_reply": "2023-08-01T16:21:51.837489Z"
    },
    "id": "odYwnMcfof44",
    "outputId": "10271b83-d1b4-4773-9d6e-4e46e2d5c016",
    "papermill": {
     "duration": 0.12227,
     "end_time": "2023-08-01T16:21:51.841355",
     "exception": false,
     "start_time": "2023-08-01T16:21:51.719085",
     "status": "completed"
    },
    "tags": []
   },
   "outputs": [
    {
     "data": {
      "text/plain": [
       "LogisticRegression()"
      ]
     },
     "execution_count": 23,
     "metadata": {},
     "output_type": "execute_result"
    }
   ],
   "source": [
    "model = LogisticRegression()\n",
    "model.fit(X_train_features, Y_train)"
   ]
  },
  {
   "cell_type": "code",
   "execution_count": 24,
   "id": "1c4712d9",
   "metadata": {
    "execution": {
     "iopub.execute_input": "2023-08-01T16:21:51.875943Z",
     "iopub.status.busy": "2023-08-01T16:21:51.875462Z",
     "iopub.status.idle": "2023-08-01T16:21:51.882954Z",
     "shell.execute_reply": "2023-08-01T16:21:51.882004Z"
    },
    "id": "sCh05UUvrIa7",
    "papermill": {
     "duration": 0.027497,
     "end_time": "2023-08-01T16:21:51.885166",
     "exception": false,
     "start_time": "2023-08-01T16:21:51.857669",
     "status": "completed"
    },
    "tags": []
   },
   "outputs": [],
   "source": [
    "prediction_on_training_data = model.predict(X_train_features)\n",
    "accuracy_on_training_data = accuracy_score(Y_train, prediction_on_training_data)"
   ]
  },
  {
   "cell_type": "code",
   "execution_count": 25,
   "id": "7ef42d5b",
   "metadata": {
    "execution": {
     "iopub.execute_input": "2023-08-01T16:21:51.919134Z",
     "iopub.status.busy": "2023-08-01T16:21:51.918709Z",
     "iopub.status.idle": "2023-08-01T16:21:51.924396Z",
     "shell.execute_reply": "2023-08-01T16:21:51.923328Z"
    },
    "id": "EeIdb3F-f8H5",
    "outputId": "98704836-8e66-4b31-8d10-5e16f308ccaf",
    "papermill": {
     "duration": 0.025543,
     "end_time": "2023-08-01T16:21:51.926877",
     "exception": false,
     "start_time": "2023-08-01T16:21:51.901334",
     "status": "completed"
    },
    "tags": []
   },
   "outputs": [
    {
     "name": "stdout",
     "output_type": "stream",
     "text": [
      "Accuracy on training data: 0.9661207089970832\n"
     ]
    }
   ],
   "source": [
    "print(\"Accuracy on training data:\",accuracy_on_training_data)"
   ]
  },
  {
   "cell_type": "code",
   "execution_count": 26,
   "id": "f849e785",
   "metadata": {
    "execution": {
     "iopub.execute_input": "2023-08-01T16:21:51.960923Z",
     "iopub.status.busy": "2023-08-01T16:21:51.960477Z",
     "iopub.status.idle": "2023-08-01T16:21:51.967848Z",
     "shell.execute_reply": "2023-08-01T16:21:51.966704Z"
    },
    "id": "KpSQmR12gKBr",
    "papermill": {
     "duration": 0.02714,
     "end_time": "2023-08-01T16:21:51.970217",
     "exception": false,
     "start_time": "2023-08-01T16:21:51.943077",
     "status": "completed"
    },
    "tags": []
   },
   "outputs": [],
   "source": [
    "prediction_on_test_data = model.predict(X_test_features)\n",
    "accuracy_on_test_data = accuracy_score(Y_test,prediction_on_test_data)"
   ]
  },
  {
   "cell_type": "code",
   "execution_count": 27,
   "id": "f27699b8",
   "metadata": {
    "execution": {
     "iopub.execute_input": "2023-08-01T16:21:52.004602Z",
     "iopub.status.busy": "2023-08-01T16:21:52.004204Z",
     "iopub.status.idle": "2023-08-01T16:21:52.009062Z",
     "shell.execute_reply": "2023-08-01T16:21:52.008222Z"
    },
    "id": "TRvKlCRTguSS",
    "outputId": "ad49b814-c15b-4766-afec-c4d3a53e551a",
    "papermill": {
     "duration": 0.024988,
     "end_time": "2023-08-01T16:21:52.011384",
     "exception": false,
     "start_time": "2023-08-01T16:21:51.986396",
     "status": "completed"
    },
    "tags": []
   },
   "outputs": [
    {
     "name": "stdout",
     "output_type": "stream",
     "text": [
      "Accuracy on test data: 0.9623318385650225\n"
     ]
    }
   ],
   "source": [
    "print(\"Accuracy on test data:\",accuracy_on_test_data)"
   ]
  },
  {
   "cell_type": "code",
   "execution_count": 28,
   "id": "8552c923",
   "metadata": {
    "execution": {
     "iopub.execute_input": "2023-08-01T16:21:52.045303Z",
     "iopub.status.busy": "2023-08-01T16:21:52.044917Z",
     "iopub.status.idle": "2023-08-01T16:21:52.053798Z",
     "shell.execute_reply": "2023-08-01T16:21:52.052363Z"
    },
    "id": "LFkVMpoRhGyf",
    "outputId": "854f93e6-7f17-4219-e028-3f1a228630f7",
    "papermill": {
     "duration": 0.028654,
     "end_time": "2023-08-01T16:21:52.056248",
     "exception": false,
     "start_time": "2023-08-01T16:21:52.027594",
     "status": "completed"
    },
    "tags": []
   },
   "outputs": [
    {
     "name": "stdout",
     "output_type": "stream",
     "text": [
      "[0]\n",
      "Spam Mail\n"
     ]
    }
   ],
   "source": [
    "input_your_mail = [\"Congratulations! You have won a free vacation to an exotic destination. Click the link to claim your prize now!\"]\n",
    "input_data_features = feature_extraction.transform(input_your_mail)\n",
    "prediction = model.predict(input_data_features)\n",
    "print(prediction)\n",
    "\n",
    "\n",
    "# Print the prediction result\n",
    "\n",
    "if (prediction)[0] == 1:\n",
    "    print(\"Ham Mail\")\n",
    "else:\n",
    "    print(\"Spam Mail\")"
   ]
  },
  {
   "cell_type": "code",
   "execution_count": 29,
   "id": "0729ce77",
   "metadata": {
    "execution": {
     "iopub.execute_input": "2023-08-01T16:21:52.091058Z",
     "iopub.status.busy": "2023-08-01T16:21:52.090657Z",
     "iopub.status.idle": "2023-08-01T16:21:52.099396Z",
     "shell.execute_reply": "2023-08-01T16:21:52.098221Z"
    },
    "id": "X-XTOWXaii8C",
    "outputId": "f50d1d91-213f-4858-dc3c-cc54f7d02928",
    "papermill": {
     "duration": 0.029036,
     "end_time": "2023-08-01T16:21:52.101654",
     "exception": false,
     "start_time": "2023-08-01T16:21:52.072618",
     "status": "completed"
    },
    "tags": []
   },
   "outputs": [
    {
     "name": "stdout",
     "output_type": "stream",
     "text": [
      "[1]\n",
      "Ham Mail\n"
     ]
    }
   ],
   "source": [
    "input_your_mail = [\"Meeting reminder: Tomorrow, 10 AM, conference room. See you there!\"]\n",
    "input_data_features = feature_extraction.transform(input_your_mail)\n",
    "prediction = model.predict(input_data_features)\n",
    "print(prediction)\n",
    "\n",
    "if (prediction)[0] == 1:\n",
    "    print(\"Ham Mail\")\n",
    "else:\n",
    "    print(\"Spam Mail\")\n"
   ]
  },
  {
   "cell_type": "markdown",
   "id": "1ae9d7da",
   "metadata": {},
   "source": [
    "### Visualizing"
   ]
  },
  {
   "cell_type": "code",
   "execution_count": 30,
   "id": "4350a9ff",
   "metadata": {
    "execution": {
     "iopub.execute_input": "2023-08-01T16:21:52.136518Z",
     "iopub.status.busy": "2023-08-01T16:21:52.136105Z",
     "iopub.status.idle": "2023-08-01T16:21:52.418010Z",
     "shell.execute_reply": "2023-08-01T16:21:52.416636Z"
    },
    "id": "XjwvsOImpLDk",
    "outputId": "87b8bd29-695c-40cc-8f9f-df4f8efaaf39",
    "papermill": {
     "duration": 0.302665,
     "end_time": "2023-08-01T16:21:52.420715",
     "exception": false,
     "start_time": "2023-08-01T16:21:52.118050",
     "status": "completed"
    },
    "tags": []
   },
   "outputs": [
    {
     "data": {
      "image/png": "[encoded data removed]",
      "text/plain": [
       "<Figure size 640x480 with 1 Axes>"
      ]
     },
     "metadata": {},
     "output_type": "display_data"
    }
   ],
   "source": [
    "spam_count = df2[df2['Category'] == 0].shape[0]\n",
    "ham_count = df2[df2['Category'] == 1].shape[0]\n",
    "\n",
    "plt.bar(['Spam', 'Ham'], [spam_count, ham_count])\n",
    "plt.xlabel('Email Type')\n",
    "plt.ylabel('Count')\n",
    "plt.title('Distribution of Spam and Ham Emails')\n",
    "plt.show()"
   ]
  },
  {
   "cell_type": "code",
   "execution_count": 31,
   "id": "7ecb0191",
   "metadata": {
    "execution": {
     "iopub.execute_input": "2023-08-01T16:21:52.456837Z",
     "iopub.status.busy": "2023-08-01T16:21:52.455876Z",
     "iopub.status.idle": "2023-08-01T16:21:52.643042Z",
     "shell.execute_reply": "2023-08-01T16:21:52.641980Z"
    },
    "id": "fZED9ZrZpQyu",
    "outputId": "5db584b5-60b1-4198-c50f-0bad6894047c",
    "papermill": {
     "duration": 0.20877,
     "end_time": "2023-08-01T16:21:52.646305",
     "exception": false,
     "start_time": "2023-08-01T16:21:52.437535",
     "status": "completed"
    },
    "tags": []
   },
   "outputs": [
    {
     "data": {
      "image/png": "[encoded data removed]",
      "text/plain": [
       "<Figure size 600x400 with 1 Axes>"
      ]
     },
     "metadata": {},
     "output_type": "display_data"
    },
    {
     "name": "stdout",
     "output_type": "stream",
     "text": [
      "Classification Report:\n",
      "              precision    recall  f1-score   support\n",
      "\n",
      "           0       0.99      0.74      0.84       155\n",
      "           1       0.96      1.00      0.98       960\n",
      "\n",
      "    accuracy                           0.96      1115\n",
      "   macro avg       0.98      0.87      0.91      1115\n",
      "weighted avg       0.96      0.96      0.96      1115\n",
      "\n"
     ]
    }
   ],
   "source": [
    "cm = confusion_matrix(Y_test, prediction_on_test_data)\n",
    "\n",
    "plt.figure(figsize=(6, 4))\n",
    "sns.heatmap(cm, annot=True, fmt=\"d\", cmap='Blues', cbar=False)\n",
    "plt.xlabel('Predicted')\n",
    "plt.ylabel('True')\n",
    "plt.title('Confusion Matrix')\n",
    "plt.show()\n",
    "\n",
    "print(\"Classification Report:\")\n",
    "print(classification_report(Y_test, prediction_on_test_data))"
   ]
  },
  {
   "cell_type": "code",
   "execution_count": 32,
   "id": "0df9d0f9",
   "metadata": {
    "execution": {
     "iopub.execute_input": "2023-08-01T16:21:52.685387Z",
     "iopub.status.busy": "2023-08-01T16:21:52.684295Z",
     "iopub.status.idle": "2023-08-01T16:21:53.009756Z",
     "shell.execute_reply": "2023-08-01T16:21:53.008522Z"
    },
    "id": "S3pjRNSQpVmO",
    "outputId": "8ab0b907-33c6-4429-f05d-0a458b5f949a",
    "papermill": {
     "duration": 0.348589,
     "end_time": "2023-08-01T16:21:53.012577",
     "exception": false,
     "start_time": "2023-08-01T16:21:52.663988",
     "status": "completed"
    },
    "tags": []
   },
   "outputs": [
    {
     "data": {
      "image/png": "[encoded data removed]",
      "text/plain": [
       "<Figure size 600x400 with 1 Axes>"
      ]
     },
     "metadata": {},
     "output_type": "display_data"
    }
   ],
   "source": [
    "probabilities = model.predict_proba(X_test_features)[:, 1]\n",
    "fpr, tpr, thresholds = roc_curve(Y_test, probabilities)\n",
    "roc_auc = roc_auc_score(Y_test, probabilities)\n",
    "\n",
    "plt.figure(figsize=(6, 4))\n",
    "plt.plot(fpr, tpr, label=f'ROC curve (AUC = {roc_auc:.2f})')\n",
    "plt.plot([0, 1], [0, 1], 'k--', label='Random Guess')\n",
    "plt.xlabel('False Positive Rate')\n",
    "plt.ylabel('True Positive Rate')\n",
    "plt.title('Receiver Operating Characteristic (ROC) Curve')\n",
    "plt.legend()\n",
    "plt.show()"
   ]
  },
  {
   "cell_type": "code",
   "execution_count": 33,
   "id": "74997adc",
   "metadata": {
    "execution": {
     "iopub.execute_input": "2023-08-01T16:21:53.050337Z",
     "iopub.status.busy": "2023-08-01T16:21:53.049947Z",
     "iopub.status.idle": "2023-08-01T16:21:53.415309Z",
     "shell.execute_reply": "2023-08-01T16:21:53.413919Z"
    },
    "id": "eKac5h4Apduu",
    "outputId": "71299c9e-7f6c-4777-a480-ae4708eee14c",
    "papermill": {
     "duration": 0.387353,
     "end_time": "2023-08-01T16:21:53.418070",
     "exception": false,
     "start_time": "2023-08-01T16:21:53.030717",
     "status": "completed"
    },
    "tags": []
   },
   "outputs": [
    {
     "data": {
      "image/png": "[encoded data removed]",
      "text/plain": [
       "<Figure size 1000x600 with 1 Axes>"
      ]
     },
     "metadata": {},
     "output_type": "display_data"
    }
   ],
   "source": [
    "stop_words = set(stopwords.words('english'))\n",
    "spam_words = \" \".join(df2[df2['Category'] == 0]['Message']).split()\n",
    "ham_words = \" \".join(df2[df2['Category'] == 1]['Message']).split()\n",
    "\n",
    "spam_word_freq = Counter([word.lower() for word in spam_words if word.lower() not in stop_words and word.isalpha()])\n",
    "\n",
    "plt.figure(figsize=(10, 6))\n",
    "plt.bar(*zip(*spam_word_freq.most_common(10)), color='r')\n",
    "plt.xlabel('Words')\n",
    "plt.ylabel('Frequency')\n",
    "plt.title('Top 10 Most Common Words in Spam Emails')\n",
    "plt.xticks(rotation=45)\n",
    "plt.show()"
   ]
  },
  {
   "cell_type": "code",
   "execution_count": 34,
   "id": "152aa91d",
   "metadata": {
    "execution": {
     "iopub.execute_input": "2023-08-01T16:21:53.457101Z",
     "iopub.status.busy": "2023-08-01T16:21:53.456649Z",
     "iopub.status.idle": "2023-08-01T16:21:53.797752Z",
     "shell.execute_reply": "2023-08-01T16:21:53.796650Z"
    },
    "id": "PdXF--OXpj0v",
    "outputId": "9f5dce9e-d48b-4a91-9c3f-50b8118bbb69",
    "papermill": {
     "duration": 0.363892,
     "end_time": "2023-08-01T16:21:53.800360",
     "exception": false,
     "start_time": "2023-08-01T16:21:53.436468",
     "status": "completed"
    },
    "tags": []
   },
   "outputs": [
    {
     "data": {
      "image/png": "[encoded data removed]",
      "text/plain": [
       "<Figure size 1000x600 with 1 Axes>"
      ]
     },
     "metadata": {},
     "output_type": "display_data"
    }
   ],
   "source": [
    "ham_word_freq = Counter([word.lower() for word in ham_words if word.lower() not in stop_words and word.isalpha()])\n",
    "\n",
    "plt.figure(figsize=(10, 6))\n",
    "plt.bar(*zip(*ham_word_freq.most_common(10)), color='g')\n",
    "plt.xlabel('Words')\n",
    "plt.ylabel('Frequency')\n",
    "plt.title('Top 10 Most Common Words in Ham Emails')\n",
    "plt.xticks(rotation=45)\n",
    "plt.show()"
   ]
  },
  {
   "cell_type": "markdown",
   "id": "744d55bf",
   "metadata": {},
   "source": [
    "In this task Logistic Regression Classifier is used to detect if a mail or sms is spam or not. The model gives 96% accuracy on test data which indicates that the model is a good fit."
   ]
  }
 ],
 "metadata": {
  "kernelspec": {
   "display_name": "Python 3 (ipykernel)",
   "language": "python",
   "name": "python3"
  },
  "language_info": {
   "codemirror_mode": {
    "name": "ipython",
    "version": 3
   },
   "file_extension": ".py",
   "mimetype": "text/x-python",
   "name": "python",
   "nbconvert_exporter": "python",
   "pygments_lexer": "ipython3",
   "version": "3.9.13"
  },
  "papermill": {
   "default_parameters": {},
   "duration": 19.286962,
   "end_time": "2023-08-01T16:21:54.880332",
   "environment_variables": {},
   "exception": null,
   "input_path": "__notebook__.ipynb",
   "output_path": "__notebook__.ipynb",
   "parameters": {},
   "start_time": "2023-08-01T16:21:35.593370",
   "version": "2.4.0"
  }
 },
 "nbformat": 4,
 "nbformat_minor": 5
}
